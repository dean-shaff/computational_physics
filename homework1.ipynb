{
 "cells": [
  {
   "cell_type": "markdown",
   "metadata": {},
   "source": [
    "### Homework 1, Hitting a baseball"
   ]
  },
  {
   "cell_type": "code",
   "execution_count": 99,
   "metadata": {
    "collapsed": false
   },
   "outputs": [],
   "source": [
    "%matplotlib inline \n",
    "\n",
    "import numpy as np \n",
    "import matplotlib.pyplot as plt \n",
    "from mpl_toolkits.mplot3d import Axes3D \n",
    "import scipy.optimize as op \n",
    "\"\"\"\n",
    "I need to make this shit more general -- I need to incorporate t terms into f_prime to make \n",
    "more general. \n",
    "\"\"\"\n",
    "def runge_kutta_step(f_prime, h, y_cur, *args): \n",
    "    \"\"\"\n",
    "    Here y_cur is the current value of y in the simulation.\n",
    "    Assuming that f_prime has no direct dependence on t. \n",
    "    h is the step size in the simulation. \n",
    "    \"\"\"\n",
    "    k1 = f_prime(y_cur, *args) \n",
    "    k2 = f_prime(y_cur + (h/2.)*k1, *args) \n",
    "    k3 = f_prime(y_cur + (h/2.)*k2, *args) \n",
    "    k4 = f_prime(y_cur + h*k3, *args) \n",
    "    return y_cur + (h/6.)*(k1 + 2*k2+ 2*k3 + k4) \n",
    "\n",
    "def f_prime(y, v_wind):\n",
    "    \"\"\"\n",
    "    v_wind is the x-component of a velocity vector. \n",
    "    \"\"\"\n",
    "    y_prime = np.zeros(4) #dealing with 2D problem here\n",
    "    x, vx, y, vy = y \n",
    "    v = np.sqrt((vx-v_wind)**2 + vy**2) \n",
    "    vd = 35. #This is some constant. \n",
    "    delta = 5 #Another constant. \n",
    "    g = 9.8 # a constant \n",
    "    b2 = 0.0039 + (0.0058/(1. + np.exp((v - vd)/delta)))\n",
    "    y_prime[0] = vx \n",
    "    y_prime[1] = -(b2*v*(vx-v_wind))\n",
    "    y_prime[2] = vy \n",
    "    y_prime[3] = -(g + (b2*v*vy))\n",
    "    return y_prime \n",
    "\n",
    "def f_prime3D(y, v_wind):\n",
    "    \"\"\"\n",
    "    Here v_wind is a vector corresponding the direction of the wind:\n",
    "    [v_wind_x, v_wind_y, v_wind_z] \n",
    "    normally the z component will be zero. \n",
    "    \"\"\"\n",
    "    y_prime = np.zeros(6) #dealing with 3D problem here\n",
    "    x, vx, y, vy, z, vz = y \n",
    "    v = np.sqrt((vx-v_wind[0])**2 + (vy-v_wind[1])**2 + (vz-v_wind[2])**2) \n",
    "    vd = 35. #This is some constant. \n",
    "    delta = 5 #Another constant. \n",
    "    g = 9.81 # a constant. the gravitational one. \n",
    "    b2 = 0.0039 + (0.0058/(1. + np.exp((v - vd)/delta)))\n",
    "    y_prime[0] = vx \n",
    "    y_prime[1] = -(b2*v*(vx-v_wind[0]))\n",
    "    y_prime[2] = vy\n",
    "    y_prime[3] = -(b2*v*(vy-v_wind[1]))\n",
    "    y_prime[4] = vz \n",
    "    y_prime[5] = -(g + (b2*v*(vz-v_wind[2])))\n",
    "    \n",
    "    return y_prime \n",
    "\n",
    "def run_simulation(theta, h,mode,*args): #v_init=110., h_init=4.5, v_wind=0.0):\n",
    "    \"\"\"\n",
    "    Assumes that you give the starting velocity and height of player in \n",
    "    imperial (ick) units\n",
    "    \"\"\" \n",
    "    #keeping args if statements inside mode blocks incase I need to make more drastic changes later. \n",
    "    if (mode == '2d'):\n",
    "                   \n",
    "        if len(args) == 0:\n",
    "            v_init, h_init, v_wind = 110, 4.5, 0.0 \n",
    "        elif len(args) == 3:\n",
    "            v_init, h_init, v_wind = args \n",
    "        elif len(args) == 1:\n",
    "            v_init, h_init = 110, 4.5 \n",
    "            v_wind = args[0] # assumes we're just passing v_wind paramter. \n",
    "\n",
    "        v_init *= 1609.34/3600. #converting to m/s\n",
    "        h_init *= 0.3048 # converting from feet to meters          \n",
    "        v_wind *= 1609.34/3600. #converting to m/s\n",
    "                   \n",
    "        y = np.array([0.0, np.cos(theta)*v_init, h_init, np.sin(theta)*v_init])  \n",
    "        ys = [y] \n",
    "        while (y[2] > 0):\n",
    "            y = runge_kutta_step(f_prime, h, y, v_wind) \n",
    "            ys.append(y) \n",
    "\n",
    "        return ys #the array containing the information from each time step  \n",
    "                   \n",
    "    elif (mode == '3d'):\n",
    "                   \n",
    "        if len(args) == 0:\n",
    "            v_init, h_init, v_wind = 110, 4.5, [0,0,0] #zero wind \n",
    "        elif len(args) == 3:\n",
    "            v_init, h_init, v_wind = args\n",
    "        elif len(args) == 1:\n",
    "            v_init = 110. \n",
    "            h_init = 4.5 \n",
    "            v_wind = args[0]\n",
    "            \n",
    "        v_init *= 1609.34/3600. #converting to m/s\n",
    "        h_init *= 0.3048 # converting from feet to meters          \n",
    "        v_wind = [i*1609.34/3600. for i in v_wind] #converting to m/s      \n",
    "        y = np.array([0.0, np.cos(theta)*v_init, 0.0, 0.0, h_init,np.sin(theta)*v_init])\n",
    "        ys = [y]\n",
    "        while (y[4] > 0):\n",
    "            y = runge_kutta_step(f_prime3D, h, y, v_wind)\n",
    "            ys.append(y)\n",
    "                   \n",
    "        return ys #the array containing the information from each time step\n",
    "                   \n",
    "                   \n",
    "def optimize_angle(h, v_wind,v_init=110., h_init=4.5): \n",
    "    fun = lambda theta, *args: -run_simulation(theta,h,'2d',*args)[-1][0] #scipy only has minimization routines, hence negative\n",
    "    # nelder-mead method uses simplex algorithm. 45 degrees is starting angle.\n",
    "    result = op.minimize(fun, np.pi/4., args=(v_init, h_init, v_wind), method='Nelder-Mead') \n",
    "    return result['x'], result['fun']\n"
   ]
  },
  {
   "cell_type": "markdown",
   "metadata": {},
   "source": [
    "## 2.13 a)"
   ]
  },
  {
   "cell_type": "code",
   "execution_count": 70,
   "metadata": {
    "collapsed": false
   },
   "outputs": [
    {
     "name": "stdout",
     "output_type": "stream",
     "text": [
      "Best angle: 33.60 degrees, 122.39 meter hit\n"
     ]
    }
   ],
   "source": [
    "best_angle, distance = optimize_angle(0.1,0.0)\n",
    "print(\"Best angle: {:.2f} degrees, {:.2f} meter hit\".format(best_angle[0] *(180./np.pi), -distance))"
   ]
  },
  {
   "cell_type": "markdown",
   "metadata": {},
   "source": [
    "## 2.13 b)"
   ]
  },
  {
   "cell_type": "code",
   "execution_count": 71,
   "metadata": {
    "collapsed": false
   },
   "outputs": [
    {
     "name": "stdout",
     "output_type": "stream",
     "text": [
      "Best angle: 42.37 degrees, 149.92 meter hit\n",
      "Best angle: 27.90 degrees, 103.14 meter hit\n"
     ]
    }
   ],
   "source": [
    "best_angle_head, distance_head = optimize_angle(0.1,25)\n",
    "print(\"Best angle: {:.2f} degrees, {:.2f} meter hit\".format(best_angle_head[0] *(180./np.pi), -distance_head))\n",
    "best_angle_tail, distance_tail = optimize_angle(0.1,-25)\n",
    "print(\"Best angle: {:.2f} degrees, {:.2f} meter hit\".format(best_angle_tail[0] *(180./np.pi), -distance_tail))"
   ]
  },
  {
   "cell_type": "markdown",
   "metadata": {},
   "source": [
    "## 2.13 c)\n",
    "Let's do two things: \n",
    "- find the optimal angle for the two different powers\n",
    "- find the distance for the two powers at constant angle, maybe 35 degrees. "
   ]
  },
  {
   "cell_type": "code",
   "execution_count": 74,
   "metadata": {
    "collapsed": false
   },
   "outputs": [
    {
     "name": "stdout",
     "output_type": "stream",
     "text": [
      "Best angle: 35.74 degrees, 106.21 meter hit\n",
      "Best angle: 33.69 degrees, 139.16 meter hit\n",
      "Distance for constant angle, given initial velocity 1: 105.72\n",
      "Distance for constant angle, given initial velocity 2: 138.55\n"
     ]
    }
   ],
   "source": [
    "v_init1 = 100.\n",
    "v_init2 = 120.\n",
    "\n",
    "angle1, dist1 = optimize_angle(0.1, 0.0, v_init1)\n",
    "angle2, dist2 = optimize_angle(0.1, 0.0, v_init2)\n",
    "\n",
    "print(\"Best angle: {:.2f} degrees, {:.2f} meter hit\".format(angle1[0] *(180./np.pi), -dist1))\n",
    "print(\"Best angle: {:.2f} degrees, {:.2f} meter hit\".format(angle2[0] *(180./np.pi), -dist2))\n",
    "\n",
    "angle_const = np.pi*(35./180.)\n",
    "\n",
    "dist1_const = run_simulation(angle_const,0.1,'2d',v_init1,4.5,0.0)[-1][0]\n",
    "dist2_const = run_simulation(angle_const,0.1,'2d',v_init2,4.5,0.0)[-1][0]\n",
    "\n",
    "print(\"Distance for constant angle, given initial velocity 1: {:.2f}\".format(dist1_const))\n",
    "print(\"Distance for constant angle, given initial velocity 2: {:.2f}\".format(dist2_const))"
   ]
  },
  {
   "cell_type": "markdown",
   "metadata": {},
   "source": [
    "## 2.13 d)\n",
    "Instead of hitting the ball at some angle, we're assuming that the ball is thrown with some velocity at $\\theta = 0 $"
   ]
  },
  {
   "cell_type": "code",
   "execution_count": 84,
   "metadata": {
    "collapsed": false
   },
   "outputs": [
    {
     "name": "stdout",
     "output_type": "stream",
     "text": [
      "Velocity at home plate: 40.96 m/s\n",
      "0.908755785387\n"
     ]
    }
   ],
   "source": [
    "theta = 0.0 \n",
    "v_init = 100. #mph \n",
    "h_init = 6.0 #we have a pitcher's mound that we have to take into account! \n",
    "v_wind = 0.0 \n",
    "thresh_x = 60.5/3.28\n",
    "\n",
    "y_array = run_simulation(theta, 0.01,'2d', v_init, h_init, v_wind)\n",
    "x_pos_ft = np.array([y[0] for y in y_array])\n",
    "x_gt_thresh = np.where(x_pos_ft > thresh_x)[0][0] #just need to first index \n",
    "vel = np.sqrt(y_array[x_gt_thresh][1]**2 + y_array[x_gt_thresh][3]**2) #get vx and vy at the correct position in the array.\n",
    "\n",
    "print('Velocity at home plate: {:.2f} m/s'.format(vel))\n",
    "print(y_array[x_gt_thresh][2]) "
   ]
  },
  {
   "cell_type": "markdown",
   "metadata": {},
   "source": [
    "## 2.14 \n",
    "In order to consider the effect of a crosswind, we have to incorporate a third dimension into the simulation"
   ]
  },
  {
   "cell_type": "code",
   "execution_count": 126,
   "metadata": {
    "collapsed": false
   },
   "outputs": [
    {
     "name": "stdout",
     "output_type": "stream",
     "text": [
      "((496,), (496,), (496,))\n"
     ]
    },
    {
     "ename": "ValueError",
     "evalue": "third arg must be a format string",
     "output_type": "error",
     "traceback": [
      "\u001b[0;31m---------------------------------------------------------------------------\u001b[0m",
      "\u001b[0;31mValueError\u001b[0m                                Traceback (most recent call last)",
      "\u001b[0;32m<ipython-input-126-72f03bf95437>\u001b[0m in \u001b[0;36m<module>\u001b[0;34m()\u001b[0m\n\u001b[1;32m      8\u001b[0m \u001b[0mz\u001b[0m \u001b[0;34m=\u001b[0m \u001b[0mys\u001b[0m\u001b[0;34m[\u001b[0m\u001b[0;34m:\u001b[0m\u001b[0;34m,\u001b[0m\u001b[0;36m4\u001b[0m\u001b[0;34m]\u001b[0m\u001b[0;34m\u001b[0m\u001b[0m\n\u001b[1;32m      9\u001b[0m \u001b[0;32mprint\u001b[0m\u001b[0;34m(\u001b[0m\u001b[0mx\u001b[0m\u001b[0;34m.\u001b[0m\u001b[0mshape\u001b[0m\u001b[0;34m,\u001b[0m \u001b[0my\u001b[0m\u001b[0;34m.\u001b[0m\u001b[0mshape\u001b[0m\u001b[0;34m,\u001b[0m \u001b[0mz\u001b[0m\u001b[0;34m.\u001b[0m\u001b[0mshape\u001b[0m\u001b[0;34m)\u001b[0m\u001b[0;34m\u001b[0m\u001b[0m\n\u001b[0;32m---> 10\u001b[0;31m \u001b[0mplt\u001b[0m\u001b[0;34m.\u001b[0m\u001b[0mplot\u001b[0m\u001b[0;34m(\u001b[0m\u001b[0mx\u001b[0m\u001b[0;34m,\u001b[0m\u001b[0my\u001b[0m\u001b[0;34m,\u001b[0m\u001b[0mz\u001b[0m\u001b[0;34m)\u001b[0m\u001b[0;34m\u001b[0m\u001b[0m\n\u001b[0m",
      "\u001b[0;32m/System/Library/Frameworks/Python.framework/Versions/2.7/Extras/lib/python/matplotlib/pyplot.pyc\u001b[0m in \u001b[0;36mplot\u001b[0;34m(*args, **kwargs)\u001b[0m\n\u001b[1;32m   2985\u001b[0m         \u001b[0max\u001b[0m\u001b[0;34m.\u001b[0m\u001b[0mhold\u001b[0m\u001b[0;34m(\u001b[0m\u001b[0mhold\u001b[0m\u001b[0;34m)\u001b[0m\u001b[0;34m\u001b[0m\u001b[0m\n\u001b[1;32m   2986\u001b[0m     \u001b[0;32mtry\u001b[0m\u001b[0;34m:\u001b[0m\u001b[0;34m\u001b[0m\u001b[0m\n\u001b[0;32m-> 2987\u001b[0;31m         \u001b[0mret\u001b[0m \u001b[0;34m=\u001b[0m \u001b[0max\u001b[0m\u001b[0;34m.\u001b[0m\u001b[0mplot\u001b[0m\u001b[0;34m(\u001b[0m\u001b[0;34m*\u001b[0m\u001b[0margs\u001b[0m\u001b[0;34m,\u001b[0m \u001b[0;34m**\u001b[0m\u001b[0mkwargs\u001b[0m\u001b[0;34m)\u001b[0m\u001b[0;34m\u001b[0m\u001b[0m\n\u001b[0m\u001b[1;32m   2988\u001b[0m         \u001b[0mdraw_if_interactive\u001b[0m\u001b[0;34m(\u001b[0m\u001b[0;34m)\u001b[0m\u001b[0;34m\u001b[0m\u001b[0m\n\u001b[1;32m   2989\u001b[0m     \u001b[0;32mfinally\u001b[0m\u001b[0;34m:\u001b[0m\u001b[0;34m\u001b[0m\u001b[0m\n",
      "\u001b[0;32m/System/Library/Frameworks/Python.framework/Versions/2.7/Extras/lib/python/matplotlib/axes.pyc\u001b[0m in \u001b[0;36mplot\u001b[0;34m(self, *args, **kwargs)\u001b[0m\n\u001b[1;32m   4135\u001b[0m         \u001b[0mlines\u001b[0m \u001b[0;34m=\u001b[0m \u001b[0;34m[\u001b[0m\u001b[0;34m]\u001b[0m\u001b[0;34m\u001b[0m\u001b[0m\n\u001b[1;32m   4136\u001b[0m \u001b[0;34m\u001b[0m\u001b[0m\n\u001b[0;32m-> 4137\u001b[0;31m         \u001b[0;32mfor\u001b[0m \u001b[0mline\u001b[0m \u001b[0;32min\u001b[0m \u001b[0mself\u001b[0m\u001b[0;34m.\u001b[0m\u001b[0m_get_lines\u001b[0m\u001b[0;34m(\u001b[0m\u001b[0;34m*\u001b[0m\u001b[0margs\u001b[0m\u001b[0;34m,\u001b[0m \u001b[0;34m**\u001b[0m\u001b[0mkwargs\u001b[0m\u001b[0;34m)\u001b[0m\u001b[0;34m:\u001b[0m\u001b[0;34m\u001b[0m\u001b[0m\n\u001b[0m\u001b[1;32m   4138\u001b[0m             \u001b[0mself\u001b[0m\u001b[0;34m.\u001b[0m\u001b[0madd_line\u001b[0m\u001b[0;34m(\u001b[0m\u001b[0mline\u001b[0m\u001b[0;34m)\u001b[0m\u001b[0;34m\u001b[0m\u001b[0m\n\u001b[1;32m   4139\u001b[0m             \u001b[0mlines\u001b[0m\u001b[0;34m.\u001b[0m\u001b[0mappend\u001b[0m\u001b[0;34m(\u001b[0m\u001b[0mline\u001b[0m\u001b[0;34m)\u001b[0m\u001b[0;34m\u001b[0m\u001b[0m\n",
      "\u001b[0;32m/System/Library/Frameworks/Python.framework/Versions/2.7/Extras/lib/python/matplotlib/axes.pyc\u001b[0m in \u001b[0;36m_grab_next_args\u001b[0;34m(self, *args, **kwargs)\u001b[0m\n\u001b[1;32m    315\u001b[0m                 \u001b[0;32mreturn\u001b[0m\u001b[0;34m\u001b[0m\u001b[0m\n\u001b[1;32m    316\u001b[0m             \u001b[0;32mif\u001b[0m \u001b[0mlen\u001b[0m\u001b[0;34m(\u001b[0m\u001b[0mremaining\u001b[0m\u001b[0;34m)\u001b[0m \u001b[0;34m<=\u001b[0m \u001b[0;36m3\u001b[0m\u001b[0;34m:\u001b[0m\u001b[0;34m\u001b[0m\u001b[0m\n\u001b[0;32m--> 317\u001b[0;31m                 \u001b[0;32mfor\u001b[0m \u001b[0mseg\u001b[0m \u001b[0;32min\u001b[0m \u001b[0mself\u001b[0m\u001b[0;34m.\u001b[0m\u001b[0m_plot_args\u001b[0m\u001b[0;34m(\u001b[0m\u001b[0mremaining\u001b[0m\u001b[0;34m,\u001b[0m \u001b[0mkwargs\u001b[0m\u001b[0;34m)\u001b[0m\u001b[0;34m:\u001b[0m\u001b[0;34m\u001b[0m\u001b[0m\n\u001b[0m\u001b[1;32m    318\u001b[0m                     \u001b[0;32myield\u001b[0m \u001b[0mseg\u001b[0m\u001b[0;34m\u001b[0m\u001b[0m\n\u001b[1;32m    319\u001b[0m                 \u001b[0;32mreturn\u001b[0m\u001b[0;34m\u001b[0m\u001b[0m\n",
      "\u001b[0;32m/System/Library/Frameworks/Python.framework/Versions/2.7/Extras/lib/python/matplotlib/axes.pyc\u001b[0m in \u001b[0;36m_plot_args\u001b[0;34m(self, tup, kwargs)\u001b[0m\n\u001b[1;32m    277\u001b[0m             \u001b[0mtup\u001b[0m \u001b[0;34m=\u001b[0m \u001b[0mtup\u001b[0m\u001b[0;34m[\u001b[0m\u001b[0;34m:\u001b[0m\u001b[0;34m-\u001b[0m\u001b[0;36m1\u001b[0m\u001b[0;34m]\u001b[0m\u001b[0;34m\u001b[0m\u001b[0m\n\u001b[1;32m    278\u001b[0m         \u001b[0;32melif\u001b[0m \u001b[0mlen\u001b[0m\u001b[0;34m(\u001b[0m\u001b[0mtup\u001b[0m\u001b[0;34m)\u001b[0m \u001b[0;34m==\u001b[0m \u001b[0;36m3\u001b[0m\u001b[0;34m:\u001b[0m\u001b[0;34m\u001b[0m\u001b[0m\n\u001b[0;32m--> 279\u001b[0;31m             \u001b[0;32mraise\u001b[0m \u001b[0mValueError\u001b[0m\u001b[0;34m(\u001b[0m\u001b[0;34m'third arg must be a format string'\u001b[0m\u001b[0;34m)\u001b[0m\u001b[0;34m\u001b[0m\u001b[0m\n\u001b[0m\u001b[1;32m    280\u001b[0m         \u001b[0;32melse\u001b[0m\u001b[0;34m:\u001b[0m\u001b[0;34m\u001b[0m\u001b[0m\n\u001b[1;32m    281\u001b[0m             \u001b[0mlinestyle\u001b[0m\u001b[0;34m,\u001b[0m \u001b[0mmarker\u001b[0m\u001b[0;34m,\u001b[0m \u001b[0mcolor\u001b[0m \u001b[0;34m=\u001b[0m \u001b[0mNone\u001b[0m\u001b[0;34m,\u001b[0m \u001b[0mNone\u001b[0m\u001b[0;34m,\u001b[0m \u001b[0mNone\u001b[0m\u001b[0;34m\u001b[0m\u001b[0m\n",
      "\u001b[0;31mValueError\u001b[0m: third arg must be a format string"
     ]
    },
    {
     "data": {
      "image/png": "[encoded data removed]",
      "text/plain": [
       "<matplotlib.figure.Figure at 0x113d03fd0>"
      ]
     },
     "metadata": {},
     "output_type": "display_data"
    }
   ],
   "source": [
    "theta = np.pi*(35./180.)\n",
    "v_wind = [0.0, 10.0, 0]\n",
    "ys = run_simulation(theta, 0.01,'3d',v_wind)\n",
    "ys = np.array(ys)\n",
    "\n",
    "x = ys[:,0]\n",
    "y = ys[:,2]\n",
    "z = ys[:,4]\n",
    "print(x.shape, y.shape, z.shape)\n"
   ]
  },
  {
   "cell_type": "code",
   "execution_count": null,
   "metadata": {
    "collapsed": true
   },
   "outputs": [],
   "source": []
  },
  {
   "cell_type": "code",
   "execution_count": null,
   "metadata": {
    "collapsed": true
   },
   "outputs": [],
   "source": []
  }
 ],
 "metadata": {
  "kernelspec": {
   "display_name": "Python 2",
   "language": "python",
   "name": "python2"
  },
  "language_info": {
   "codemirror_mode": {
    "name": "ipython",
    "version": 2
   },
   "file_extension": ".py",
   "mimetype": "text/x-python",
   "name": "python",
   "nbconvert_exporter": "python",
   "pygments_lexer": "ipython2",
   "version": "2.7.6"
  }
 },
 "nbformat": 4,
 "nbformat_minor": 0
}

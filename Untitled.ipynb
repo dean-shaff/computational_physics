{
 "cells": [
  {
   "cell_type": "code",
   "execution_count": null,
   "metadata": {
    "collapsed": true
   },
   "outputs": [],
   "source": [
    "%matplotlib inline \n",
    "\n",
    "import numpy as np \n",
    "import matplotlib.pyplot as plt \n",
    "import scipy.optimize as op \n",
    "\n",
    "def runge_kutta_step(f_prime, h, y_cur, *args): \n",
    "    \"\"\"\n",
    "    Here y_cur is the current value of y in the simulation.\n",
    "    Assuming that f_prime has no direct dependence on t. \n",
    "    h is the step size in the simulation. \n",
    "    \"\"\"\n",
    "    k1 = f_prime(y_cur, *args) \n",
    "    k2 = f_prime(y_cur + (h/2.)*k1, *args) \n",
    "    k3 = f_prime(y_cur + (h/2.)*k2, *args) \n",
    "    k4 = f_prime(y_cur + h*k3, *args) \n",
    "    return y_cur + (h/6.)*(k1 + 2*k2+ 2*k3 + k4) \n",
    "\n",
    "def f_prime(y, v_wind):\n",
    "    \"\"\"\n",
    "    v_wind is a velocity vector of the following form:\n",
    "    v_wind = (v_wind_x, 0) \n",
    "    \"\"\"\n",
    "    y_prime = np.zeros(4) #dealing with 2D problem here\n",
    "    x, vx, y, vy = y \n",
    "    v = np.sqrt((vx-v_wind)**2 + vy**2) \n",
    "    vd = 35. #This is some constant. \n",
    "    delta = 5 #Another constant. \n",
    "    g = 9.8 # a constant \n",
    "    b2 = 0.0039 + 0.0058/(1. + np.exp((v - vd)/delta)) \n",
    "    y_prime[0] = vx \n",
    "    y_prime[1] = -(b2*v*(vx-v_wind))\n",
    "    y_prime[2] = vy \n",
    "    y_prime[3] = -(g + (b2*v*vy))\n",
    "    return y_prime \n",
    "\n",
    "def run_simulation(theta, *args):\n",
    "    \"\"\"\n",
    "    Assumes that you give the starting velocity and height of player in \n",
    "    imperial (ick) units\n",
    "    \"\"\"\n",
    "    try:\n",
    "        v_init, height_init = args\n",
    "        v_init *= 1609.34/3600. #converting to m/s\n",
    "        height_init *= 0.3048 # converting from feet to meters          \n",
    "    except:\n",
    "        v_init, height_init = 110., 6. #110 mph, 6 ft tall\n",
    "        v_init *= 1609.34/3600. #converting to m/s\n",
    "        height_init *= 0.3048 # converting from feet to meters    \n",
    "    y = np.array([0.0, np.cos(theta)*v_init, height_init, np.sin(theta)*v_init])  \n",
    "    h = 0.001 \n",
    "    v_wind = 0\n",
    "    ys = [y] \n",
    "    while (y[2] > 0):\n",
    "        y = runge_kutta_step(f_prime, h, y, v_wind) \n",
    "        ys.append(y) \n",
    "    \n",
    "    return ys[-1][0] \n",
    " \n",
    "\n",
    "\n"
   ]
  }
 ],
 "metadata": {
  "kernelspec": {
   "display_name": "Python 2",
   "language": "python",
   "name": "python2"
  },
  "language_info": {
   "codemirror_mode": {
    "name": "ipython",
    "version": 2
   },
   "file_extension": ".py",
   "mimetype": "text/x-python",
   "name": "python",
   "nbconvert_exporter": "python",
   "pygments_lexer": "ipython2",
   "version": "2.7.6"
  }
 },
 "nbformat": 4,
 "nbformat_minor": 0
}
